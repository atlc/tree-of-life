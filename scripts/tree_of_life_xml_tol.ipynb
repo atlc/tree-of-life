{
 "cells": [
  {
   "cell_type": "markdown",
   "metadata": {
    "deletable": true,
    "editable": true
   },
   "source": [
    "## Script for converting a tree of life from the Tree of Life Project in xml to a networkx graph and to a graphml file"
   ]
  },
  {
   "cell_type": "markdown",
   "metadata": {
    "deletable": true,
    "editable": true
   },
   "source": [
    "This script convert a Tree of life from an xml format to a networkx graph then to several file formats (json, graphml).\n",
    "The original data can be found here http://tolweb.org/tree/home.pages/downloadtree.html\n",
    "The xml file available on the above website is licenced under the Attribution Creative Commons 3.0 https://creativecommons.org/licenses/by/3.0/, the copyright is owned by the Tree Of Life Project.\n"
   ]
  },
  {
   "cell_type": "markdown",
   "metadata": {
    "deletable": true,
    "editable": true
   },
   "source": [
    "Copyright 2017 Benjamin Ricaud\n",
    "\n",
    "Licensed under the Apache License, Version 2.0 (the \"License\");\n",
    "you may not use this file except in compliance with the License.\n",
    "You may obtain a copy of the License at\n",
    "\n",
    "    http://www.apache.org/licenses/LICENSE-2.0\n",
    "\n",
    "Unless required by applicable law or agreed to in writing, software\n",
    "distributed under the License is distributed on an \"AS IS\" BASIS,\n",
    "WITHOUT WARRANTIES OR CONDITIONS OF ANY KIND, either express or implied.\n",
    "See the License for the specific language governing permissions and\n",
    "limitations under the License."
   ]
  },
  {
   "cell_type": "code",
   "execution_count": null,
   "metadata": {
    "deletable": true,
    "editable": true,
    "tags": []
   },
   "outputs": [],
   "source": [
    "# Tools for parsing xml\n",
    "import xml.etree.ElementTree as ET"
   ]
  },
  {
   "cell_type": "code",
   "execution_count": null,
   "metadata": {
    "deletable": true,
    "editable": true,
    "tags": []
   },
   "outputs": [],
   "source": [
    "# Load the xml file\n",
    "# If there are error during the loading, make sure the file is encoded in UTF8\n",
    "# You may have to open it with a text editor and save it with encoding UTF8\n",
    "xml_file_to_load = '../data/tolskeletaldumpUTF8.xml'\n",
    "tree = ET.parse(xml_file_to_load)"
   ]
  },
  {
   "cell_type": "code",
   "execution_count": null,
   "metadata": {
    "deletable": true,
    "editable": true,
    "tags": []
   },
   "outputs": [],
   "source": [
    "# The data will be loaded in a networkx graph\n",
    "# The networkx module can be installed using 'pip install networkx'\n",
    "import networkx as nx"
   ]
  },
  {
   "cell_type": "code",
   "execution_count": null,
   "metadata": {
    "collapsed": false,
    "deletable": true,
    "editable": true,
    "jupyter": {
     "outputs_hidden": false
    }
   },
   "outputs": [],
   "source": [
    "# Code for the tree construction\n",
    "# read the data in variable 'tree'\n",
    "# Create the graph from the data\n",
    "# Load the node and their properties in a NetworkX graph\n",
    "# Create the edges and assign a default weight of 1 to each of them.\n",
    "i=1\n",
    "G = nx.DiGraph()\n",
    "root = tree.getroot()\n",
    "for livingElement in root.iter('NODE'):\n",
    "    name = livingElement.find('NAME').text\n",
    "    data_dic = livingElement.attrib\n",
    "    node_id = data_dic['ID']\n",
    "    if name == None:\n",
    "        name = 'None'\n",
    "    data_dic['name'] = name\n",
    "    if not G.has_node(node_id):\n",
    "        G.add_nodes_from([(node_id,data_dic)])\n",
    "    if data_dic['CHILDCOUNT']!='0':\n",
    "        for child in livingElement[1]:\n",
    "            child_name = child.find('NAME').text\n",
    "            child_data_dic = child.attrib\n",
    "            child_id = child_data_dic['ID']\n",
    "            if child_name == None:\n",
    "                child_name = 'None'\n",
    "            child_data_dic['name'] = child_name\n",
    "            #print(child_name,child_data_dic)\n",
    "            if not G.has_node(child_id):\n",
    "                G.add_nodes_from([(child_id,child_data_dic)])\n",
    "            if G.has_edge(node_id,child_id):\n",
    "                print('found existing edge',name,child_name)\n",
    "                print('data: ',data_dic,child_data_dic)\n",
    "            G.add_edge(node_id,child_id,weight=1)\n",
    "            i+=1\n",
    "print('Number of nodes processed:',i)\n",
    "print('Number of nodes in the graph:',G.number_of_nodes())\n",
    "print('Number of edges in the graph:',G.number_of_edges())\n",
    "print('The graph is a tree?',nx.is_tree(G))"
   ]
  },
  {
   "cell_type": "code",
   "execution_count": null,
   "metadata": {
    "collapsed": false,
    "deletable": true,
    "editable": true,
    "jupyter": {
     "outputs_hidden": false
    }
   },
   "outputs": [],
   "source": [
    "# Find the root node, the only one that has in_degree 0\n",
    "root_node_list = [n for n,d in G.in_degree() if d==0] \n",
    "root_node_id = root_node_list[0]\n",
    "print('Root node id:',root_node_id)"
   ]
  },
  {
   "cell_type": "code",
   "execution_count": null,
   "metadata": {
    "collapsed": false,
    "deletable": true,
    "editable": true,
    "jupyter": {
     "outputs_hidden": false
    }
   },
   "outputs": [],
   "source": [
    "# Details about the root node\n",
    "print(G.nodes[root_node_id])\n",
    "print('Degree:',G.degree(root_node_id))\n",
    "print('Successors: ',[G.nodes[node]['name'] for node in G.successors(root_node_id)])"
   ]
  },
  {
   "cell_type": "code",
   "execution_count": null,
   "metadata": {},
   "outputs": [],
   "source": [
    "# Details about a particular node\n",
    "start_node_id = '16421' # Homo sapiens\n",
    "node_data = G.nodes[start_node_id]\n",
    "print(node_data['ID'], node_data['name'])\n",
    "node_id = start_node_id\n",
    "print('Ancestors:')\n",
    "for p in range(200):\n",
    "    predecessors = list(G.predecessors(node_id))\n",
    "    node_data = G.nodes[predecessors[0]]\n",
    "    #print(pred_data)\n",
    "    print(node_data['ID'], node_data['name'])\n",
    "    node_id = node_data['ID']\n",
    "    if node_id == root_node_id:\n",
    "        break"
   ]
  },
  {
   "cell_type": "code",
   "execution_count": null,
   "metadata": {
    "deletable": true,
    "editable": true,
    "tags": []
   },
   "outputs": [],
   "source": [
    "# Saving the graph in json format\n",
    "from networkx.readwrite import json_graph\n",
    "import json\n",
    "with open('../data/treeoflife.json', 'w') as outfile1:\n",
    "    outfile1.write(json.dumps(json_graph.node_link_data(G)))"
   ]
  },
  {
   "cell_type": "code",
   "execution_count": null,
   "metadata": {
    "deletable": true,
    "editable": true,
    "tags": []
   },
   "outputs": [],
   "source": [
    "# Saving the graph in graphML format\n",
    "nx.write_graphml(G, \"../data/treeoflife.graphml\")"
   ]
  },
  {
   "cell_type": "markdown",
   "metadata": {
    "deletable": true,
    "editable": true
   },
   "source": [
    "See https://networkx.github.io/ for more file formats and additional details on the handling of the graph."
   ]
  },
  {
   "cell_type": "markdown",
   "metadata": {
    "deletable": true,
    "editable": true
   },
   "source": [
    "## Saving a subgraph of the full graph"
   ]
  },
  {
   "cell_type": "code",
   "execution_count": null,
   "metadata": {
    "collapsed": false,
    "jupyter": {
     "outputs_hidden": false
    }
   },
   "outputs": [],
   "source": [
    "# Create a subgraph\n",
    "# The subgraph contains the root and is descendants up to 'depth'\n",
    "# First step: select the nodes\n",
    "depth = 2\n",
    "set_of_nodes = set(root_node_id)\n",
    "for _ in range(0,depth):\n",
    "    for node_id in set_of_nodes:\n",
    "        neigs = G.neighbors(node_id)\n",
    "        #print(neigs)\n",
    "        set_of_nodes = set_of_nodes.union(set(neigs))\n",
    "print('Number of nodes selected:',len(set_of_nodes))\n",
    "print(set_of_nodes)\n",
    "# Second step: extract the subgraph\n",
    "G_sub = G.subgraph(list(set_of_nodes))"
   ]
  },
  {
   "cell_type": "code",
   "execution_count": null,
   "metadata": {
    "collapsed": false,
    "jupyter": {
     "outputs_hidden": false
    }
   },
   "outputs": [],
   "source": [
    "# Saving the graph in json format\n",
    "from networkx.readwrite import json_graph\n",
    "import json\n",
    "with open('../data/treeoflife_subset.json', 'w') as outfile1:\n",
    "    outfile1.write(json.dumps(json_graph.node_link_data(G_sub)))"
   ]
  },
  {
   "cell_type": "code",
   "execution_count": null,
   "metadata": {
    "collapsed": false,
    "jupyter": {
     "outputs_hidden": false
    }
   },
   "outputs": [],
   "source": [
    "# Check (Should be True)\n",
    "print('The graph is a tree?',nx.is_tree(G_sub))\n",
    "print('The graph is weakly connected?',nx.is_weakly_connected(G_sub))"
   ]
  },
  {
   "cell_type": "code",
   "execution_count": null,
   "metadata": {
    "tags": []
   },
   "outputs": [],
   "source": []
  }
 ],
 "metadata": {
  "kernelspec": {
   "display_name": "Python 3",
   "language": "python",
   "name": "python3"
  },
  "language_info": {
   "codemirror_mode": {
    "name": "ipython",
    "version": 3
   },
   "file_extension": ".py",
   "mimetype": "text/x-python",
   "name": "python",
   "nbconvert_exporter": "python",
   "pygments_lexer": "ipython3",
   "version": "3.6.9"
  }
 },
 "nbformat": 4,
 "nbformat_minor": 4
}
